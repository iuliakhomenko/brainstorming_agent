{
 "cells": [
  {
   "cell_type": "markdown",
   "id": "6bf4f922-1da2-4ad8-b17c-5bfa7eb6065e",
   "metadata": {},
   "source": [
    "# Convert from PDF/EPUB to txt"
   ]
  },
  {
   "cell_type": "code",
   "execution_count": 14,
   "id": "initial_id",
   "metadata": {
    "ExecuteTime": {
     "end_time": "2025-05-30T09:52:13.126676Z",
     "start_time": "2025-05-30T09:52:13.026284Z"
    },
    "execution": {
     "iopub.execute_input": "2025-05-30T11:10:39.255822Z",
     "iopub.status.busy": "2025-05-30T11:10:39.255505Z",
     "iopub.status.idle": "2025-05-30T11:10:39.259659Z",
     "shell.execute_reply": "2025-05-30T11:10:39.258595Z",
     "shell.execute_reply.started": "2025-05-30T11:10:39.255797Z"
    }
   },
   "outputs": [],
   "source": [
    "from data.data_preprocessing import DocumentExtractor"
   ]
  },
  {
   "cell_type": "code",
   "execution_count": 15,
   "id": "63c1e38397bc0303",
   "metadata": {
    "execution": {
     "iopub.execute_input": "2025-05-30T11:10:39.593597Z",
     "iopub.status.busy": "2025-05-30T11:10:39.593462Z",
     "iopub.status.idle": "2025-05-30T11:10:39.595367Z",
     "shell.execute_reply": "2025-05-30T11:10:39.595028Z",
     "shell.execute_reply.started": "2025-05-30T11:10:39.593587Z"
    }
   },
   "outputs": [],
   "source": [
    "# Initialize extractor\n",
    "extractor = DocumentExtractor(output_dir=\"data/books\")"
   ]
  },
  {
   "cell_type": "code",
   "execution_count": 4,
   "id": "a39c6f5a-8145-460a-ac1f-082f526178dd",
   "metadata": {
    "execution": {
     "iopub.execute_input": "2025-05-30T10:48:51.024368Z",
     "iopub.status.busy": "2025-05-30T10:48:51.024229Z",
     "iopub.status.idle": "2025-05-30T10:48:51.026118Z",
     "shell.execute_reply": "2025-05-30T10:48:51.025859Z",
     "shell.execute_reply.started": "2025-05-30T10:48:51.024358Z"
    }
   },
   "outputs": [],
   "source": [
    "test_path = '/Users/iulia/Library/CloudStorage/GoogleDrive-iulia.feofanova@gmail.com/My Drive/Books/prep/AlgorithmicCollusionbyLLM.pdf'"
   ]
  },
  {
   "cell_type": "code",
   "execution_count": 8,
   "id": "13ad2a2a-7b73-481c-91a5-add17bab27f9",
   "metadata": {
    "execution": {
     "iopub.execute_input": "2025-05-30T10:50:32.901115Z",
     "iopub.status.busy": "2025-05-30T10:50:32.900975Z",
     "iopub.status.idle": "2025-05-30T10:50:32.903217Z",
     "shell.execute_reply": "2025-05-30T10:50:32.902888Z",
     "shell.execute_reply.started": "2025-05-30T10:50:32.901105Z"
    }
   },
   "outputs": [],
   "source": [
    "book1 = \"/Users/iulia/Library/CloudStorage/GoogleDrive-iulia.feofanova@gmail.com/My Drive/BrainStormingAgent/Breakthrough thinking a guide to creative thinking and idea generation (Vogel, Thomas) (Z-Library).pdf\""
   ]
  },
  {
   "cell_type": "code",
   "execution_count": 9,
   "id": "c26860bb-4a91-496a-914e-2e66c20ddbe4",
   "metadata": {
    "execution": {
     "iopub.execute_input": "2025-05-30T10:50:33.819086Z",
     "iopub.status.busy": "2025-05-30T10:50:33.818955Z",
     "iopub.status.idle": "2025-05-30T10:50:40.216627Z",
     "shell.execute_reply": "2025-05-30T10:50:40.216367Z",
     "shell.execute_reply.started": "2025-05-30T10:50:33.819077Z"
    }
   },
   "outputs": [],
   "source": [
    "# Extract single PDF\n",
    "result = extractor.extract_single_document(book1)"
   ]
  },
  {
   "cell_type": "code",
   "execution_count": 10,
   "id": "e7c8f0c9-88cb-4b59-a7cd-26c62c029beb",
   "metadata": {
    "execution": {
     "iopub.execute_input": "2025-05-30T10:50:43.152761Z",
     "iopub.status.busy": "2025-05-30T10:50:43.152572Z",
     "iopub.status.idle": "2025-05-30T10:50:43.156460Z",
     "shell.execute_reply": "2025-05-30T10:50:43.156076Z",
     "shell.execute_reply.started": "2025-05-30T10:50:43.152747Z"
    }
   },
   "outputs": [
    {
     "name": "stdout",
     "output_type": "stream",
     "text": [
      "\n",
      "============================================================\n",
      "DOCUMENT EXTRACTION REPORT\n",
      "============================================================\n",
      "Total files processed: 1\n",
      "Successful extractions: 1 (100.0%)\n",
      "Failed extractions: 0 (0.0%)\n",
      "\n",
      "File Type Breakdown:\n",
      "  PDF files: 2\n",
      "  EPUB files: 0\n",
      "\n",
      "Extraction Method Success:\n",
      "  PyPDF2 successes: 2\n",
      "  pdfplumber successes: 0\n",
      "  ebooklib successes: 0\n",
      "  epub2txt successes: 0\n",
      "\n",
      "Quality Metrics:\n",
      "  Total words extracted: 98,922\n",
      "  Average words per file: 98922\n",
      "  Total processing time: 6.39s\n",
      "\n",
      "Report saved to: data/processed_texts/extraction_report.json\n"
     ]
    }
   ],
   "source": [
    "extractor.generate_extraction_report([result])"
   ]
  },
  {
   "cell_type": "code",
   "execution_count": 16,
   "id": "e0434deb-e9e2-47dc-b524-163cced2db8f",
   "metadata": {
    "execution": {
     "iopub.execute_input": "2025-05-30T11:10:44.559434Z",
     "iopub.status.busy": "2025-05-30T11:10:44.559260Z",
     "iopub.status.idle": "2025-05-30T11:10:44.561391Z",
     "shell.execute_reply": "2025-05-30T11:10:44.561059Z",
     "shell.execute_reply.started": "2025-05-30T11:10:44.559422Z"
    }
   },
   "outputs": [],
   "source": [
    "doc_dir = '/Users/iulia/Documents/Documents/StudyMaterials/Brainstorming_agent_RAG_sources/'"
   ]
  },
  {
   "cell_type": "code",
   "execution_count": 17,
   "id": "0ad7b144-72b1-4ad0-b5ba-af5da47d3f30",
   "metadata": {
    "execution": {
     "iopub.execute_input": "2025-05-30T11:10:44.856578Z",
     "iopub.status.busy": "2025-05-30T11:10:44.856235Z",
     "iopub.status.idle": "2025-05-30T11:11:01.034482Z",
     "shell.execute_reply": "2025-05-30T11:11:01.034179Z",
     "shell.execute_reply.started": "2025-05-30T11:10:44.856556Z"
    }
   },
   "outputs": [
    {
     "name": "stdout",
     "output_type": "stream",
     "text": [
      "\n",
      "============================================================\n",
      "DOCUMENT EXTRACTION REPORT\n",
      "============================================================\n",
      "Total files processed: 8\n",
      "Successful extractions: 8 (100.0%)\n",
      "Failed extractions: 0 (0.0%)\n",
      "\n",
      "File Type Breakdown:\n",
      "  PDF files: 4\n",
      "  EPUB files: 4\n",
      "\n",
      "Extraction Method Success:\n",
      "  PyPDF2 successes: 4\n",
      "  pdfplumber successes: 0\n",
      "  ebooklib successes: 4\n",
      "  epub2txt successes: 0\n",
      "\n",
      "Quality Metrics:\n",
      "  Total words extracted: 542,742\n",
      "  Average words per file: 67843\n",
      "  Total processing time: 16.16s\n",
      "\n",
      "Report saved to: data/processed_texts/extraction_report.json\n"
     ]
    }
   ],
   "source": [
    "results = extractor.batch_extract(doc_dir)\n"
   ]
  },
  {
   "cell_type": "markdown",
   "id": "c8e17619-c2d0-4575-b1a3-04c0845a8e3f",
   "metadata": {},
   "source": [
    "# Clean text"
   ]
  },
  {
   "cell_type": "code",
   "execution_count": 1,
   "id": "9ce62649-c8ef-4e19-8ac9-c961fe329ebf",
   "metadata": {
    "execution": {
     "iopub.execute_input": "2025-05-30T16:05:42.341915Z",
     "iopub.status.busy": "2025-05-30T16:05:42.341753Z",
     "iopub.status.idle": "2025-05-30T16:05:42.362143Z",
     "shell.execute_reply": "2025-05-30T16:05:42.361880Z",
     "shell.execute_reply.started": "2025-05-30T16:05:42.341904Z"
    }
   },
   "outputs": [],
   "source": [
    "from data.text_preprocessing.text_preprocessor_main import TextPreprocessor"
   ]
  },
  {
   "cell_type": "code",
   "execution_count": 2,
   "id": "82d04ebd-ff28-4cd5-8673-a189d7776842",
   "metadata": {
    "execution": {
     "iopub.execute_input": "2025-05-30T16:06:32.610552Z",
     "iopub.status.busy": "2025-05-30T16:06:32.609909Z",
     "iopub.status.idle": "2025-05-30T16:06:32.618332Z",
     "shell.execute_reply": "2025-05-30T16:06:32.617729Z",
     "shell.execute_reply.started": "2025-05-30T16:06:32.610526Z"
    }
   },
   "outputs": [],
   "source": [
    "preprocessor = TextPreprocessor(\n",
    "        input_dir='/Users/iulia/Documents/Documents/StudyMaterials/brainstorming_agent/data/books',\n",
    "    log_level= \"DEBUG\"\n",
    "    )"
   ]
  },
  {
   "cell_type": "code",
   "execution_count": 3,
   "id": "75bbcb72-d30a-4450-b666-f47079b4e155",
   "metadata": {
    "execution": {
     "iopub.execute_input": "2025-05-30T16:06:40.815843Z",
     "iopub.status.busy": "2025-05-30T16:06:40.814627Z",
     "iopub.status.idle": "2025-05-30T16:06:41.688420Z",
     "shell.execute_reply": "2025-05-30T16:06:41.688133Z",
     "shell.execute_reply.started": "2025-05-30T16:06:40.815785Z"
    }
   },
   "outputs": [
    {
     "name": "stderr",
     "output_type": "stream",
     "text": [
      "2025-05-30 19:06:40,822 - INFO - Found 8 files to process\n",
      "2025-05-30 19:06:40,823 - INFO - Processing: Breakthrough thinking a guide to creative thinking and idea generation (Vogel, Thomas) (Z-Library).txt\n",
      "2025-05-30 19:06:40,836 - DEBUG - Encoding for Breakthrough thinking a guide to creative thinking and idea generation (Vogel, Thomas) (Z-Library).txt: utf-8 (confidence: 0.99)\n",
      "2025-05-30 19:06:40,838 - DEBUG - Successfully read Breakthrough thinking a guide to creative thinking and idea generation (Vogel, Thomas) (Z-Library).txt (599281 chars)\n",
      "2025-05-30 19:06:40,839 - INFO - Original length: 599281 chars\n",
      "2025-05-30 19:06:40,839 - DEBUG - Cleaning text...\n",
      "2025-05-30 19:06:40,973 - DEBUG - Text cleaning complete\n",
      "2025-05-30 19:06:40,973 - DEBUG - Standardizing format...\n",
      "2025-05-30 19:06:40,974 - INFO - Removed 0 header/footer lines\n",
      "2025-05-30 19:06:41,009 - DEBUG - Format standardization complete\n",
      "2025-05-30 19:06:41,009 - INFO - Final length: 588518 chars (98.2%)\n",
      "2025-05-30 19:06:41,012 - DEBUG - Successfully wrote cleaned_Breakthrough thinking a guide to creative thinking and idea generation (Vogel, Thomas) (Z-Library).txt (588518 chars)\n",
      "2025-05-30 19:06:41,012 - INFO - Saved: cleaned_Breakthrough thinking a guide to creative thinking and idea generation (Vogel, Thomas) (Z-Library).txt\n",
      "2025-05-30 19:06:41,012 - INFO - Processing: Cracking Creativity The Secrets of Creative Genius (Michael Michalko [Michalko, Michael]) (Z-Library).txt\n",
      "2025-05-30 19:06:41,017 - DEBUG - Encoding for Cracking Creativity The Secrets of Creative Genius (Michael Michalko [Michalko, Michael]) (Z-Library).txt: utf-8 (confidence: 0.99)\n",
      "2025-05-30 19:06:41,018 - DEBUG - Successfully read Cracking Creativity The Secrets of Creative Genius (Michael Michalko [Michalko, Michael]) (Z-Library).txt (546605 chars)\n",
      "2025-05-30 19:06:41,018 - INFO - Original length: 546605 chars\n",
      "2025-05-30 19:06:41,019 - DEBUG - Cleaning text...\n",
      "2025-05-30 19:06:41,108 - DEBUG - Text cleaning complete\n",
      "2025-05-30 19:06:41,108 - DEBUG - Standardizing format...\n",
      "2025-05-30 19:06:41,109 - INFO - Removed 0 header/footer lines\n",
      "2025-05-30 19:06:41,191 - DEBUG - Format standardization complete\n",
      "2025-05-30 19:06:41,191 - INFO - Final length: 542836 chars (99.3%)\n",
      "2025-05-30 19:06:41,192 - DEBUG - Successfully wrote cleaned_Cracking Creativity The Secrets of Creative Genius (Michael Michalko [Michalko, Michael]) (Z-Library).txt (542836 chars)\n",
      "2025-05-30 19:06:41,192 - INFO - Saved: cleaned_Cracking Creativity The Secrets of Creative Genius (Michael Michalko [Michalko, Michael]) (Z-Library).txt\n",
      "2025-05-30 19:06:41,193 - INFO - Processing: Applied Imagination - Principles and Procedures of Creative Writing (Alex Osborn alex faickney osborn) (Z-Library).txt\n",
      "2025-05-30 19:06:41,198 - DEBUG - Encoding for Applied Imagination - Principles and Procedures of Creative Writing (Alex Osborn alex faickney osborn) (Z-Library).txt: utf-8 (confidence: 0.99)\n",
      "2025-05-30 19:06:41,199 - DEBUG - Successfully read Applied Imagination - Principles and Procedures of Creative Writing (Alex Osborn alex faickney osborn) (Z-Library).txt (527228 chars)\n",
      "2025-05-30 19:06:41,200 - INFO - Original length: 527228 chars\n",
      "2025-05-30 19:06:41,200 - DEBUG - Cleaning text...\n",
      "2025-05-30 19:06:41,282 - DEBUG - Text cleaning complete\n",
      "2025-05-30 19:06:41,282 - DEBUG - Standardizing format...\n",
      "2025-05-30 19:06:41,282 - INFO - Removed 0 header/footer lines\n",
      "2025-05-30 19:06:41,314 - DEBUG - Format standardization complete\n",
      "2025-05-30 19:06:41,314 - INFO - Final length: 525314 chars (99.6%)\n",
      "2025-05-30 19:06:41,316 - DEBUG - Successfully wrote cleaned_Applied Imagination - Principles and Procedures of Creative Writing (Alex Osborn alex faickney osborn) (Z-Library).txt (525314 chars)\n",
      "2025-05-30 19:06:41,316 - INFO - Saved: cleaned_Applied Imagination - Principles and Procedures of Creative Writing (Alex Osborn alex faickney osborn) (Z-Library).txt\n",
      "2025-05-30 19:06:41,316 - INFO - Processing: Where Good Ideas Come From (Johnson Steven) (Z-Library).txt\n",
      "2025-05-30 19:06:41,321 - DEBUG - Encoding for Where Good Ideas Come From (Johnson Steven) (Z-Library).txt: utf-8 (confidence: 0.99)\n",
      "2025-05-30 19:06:41,323 - DEBUG - Successfully read Where Good Ideas Come From (Johnson Steven) (Z-Library).txt (514762 chars)\n",
      "2025-05-30 19:06:41,323 - INFO - Original length: 514762 chars\n",
      "2025-05-30 19:06:41,323 - DEBUG - Cleaning text...\n",
      "2025-05-30 19:06:41,397 - DEBUG - Text cleaning complete\n",
      "2025-05-30 19:06:41,398 - DEBUG - Standardizing format...\n",
      "2025-05-30 19:06:41,398 - INFO - Removed 0 header/footer lines\n",
      "2025-05-30 19:06:41,425 - DEBUG - Format standardization complete\n",
      "2025-05-30 19:06:41,425 - INFO - Final length: 512804 chars (99.6%)\n",
      "2025-05-30 19:06:41,426 - DEBUG - Successfully wrote cleaned_Where Good Ideas Come From (Johnson Steven) (Z-Library).txt (512804 chars)\n",
      "2025-05-30 19:06:41,426 - INFO - Saved: cleaned_Where Good Ideas Come From (Johnson Steven) (Z-Library).txt\n",
      "2025-05-30 19:06:41,427 - INFO - Processing: Six Thinking Hats (Edward de Bono) (Z-Library).txt\n",
      "2025-05-30 19:06:41,432 - DEBUG - Encoding for Six Thinking Hats (Edward de Bono) (Z-Library).txt: utf-8 (confidence: 0.99)\n",
      "2025-05-30 19:06:41,433 - DEBUG - Successfully read Six Thinking Hats (Edward de Bono) (Z-Library).txt (221999 chars)\n",
      "2025-05-30 19:06:41,433 - INFO - Original length: 221999 chars\n",
      "2025-05-30 19:06:41,433 - DEBUG - Cleaning text...\n",
      "2025-05-30 19:06:41,465 - DEBUG - Text cleaning complete\n",
      "2025-05-30 19:06:41,466 - DEBUG - Standardizing format...\n",
      "2025-05-30 19:06:41,466 - INFO - Removed 0 header/footer lines\n",
      "2025-05-30 19:06:41,478 - DEBUG - Format standardization complete\n",
      "2025-05-30 19:06:41,479 - INFO - Final length: 220954 chars (99.5%)\n",
      "2025-05-30 19:06:41,480 - DEBUG - Successfully wrote cleaned_Six Thinking Hats (Edward de Bono) (Z-Library).txt (220954 chars)\n",
      "2025-05-30 19:06:41,480 - INFO - Saved: cleaned_Six Thinking Hats (Edward de Bono) (Z-Library).txt\n",
      "2025-05-30 19:06:41,480 - INFO - Processing: Sprint How to Solve Big Problems and Test New Ideas in Just Five Days (Jake Knapp  John Zeratsky  Braden Kowitz) (Z-Library).txt\n",
      "2025-05-30 19:06:41,485 - DEBUG - Encoding for Sprint How to Solve Big Problems and Test New Ideas in Just Five Days (Jake Knapp  John Zeratsky  Braden Kowitz) (Z-Library).txt: utf-8 (confidence: 0.99)\n",
      "2025-05-30 19:06:41,486 - DEBUG - Successfully read Sprint How to Solve Big Problems and Test New Ideas in Just Five Days (Jake Knapp  John Zeratsky  Braden Kowitz) (Z-Library).txt (345226 chars)\n",
      "2025-05-30 19:06:41,486 - INFO - Original length: 345226 chars\n",
      "2025-05-30 19:06:41,486 - DEBUG - Cleaning text...\n",
      "2025-05-30 19:06:41,537 - DEBUG - Text cleaning complete\n",
      "2025-05-30 19:06:41,538 - DEBUG - Standardizing format...\n",
      "2025-05-30 19:06:41,538 - INFO - Removed 0 header/footer lines\n",
      "2025-05-30 19:06:41,559 - DEBUG - Format standardization complete\n",
      "2025-05-30 19:06:41,560 - INFO - Final length: 342132 chars (99.1%)\n",
      "2025-05-30 19:06:41,561 - DEBUG - Successfully wrote cleaned_Sprint How to Solve Big Problems and Test New Ideas in Just Five Days (Jake Knapp  John Zeratsky  Braden Kowitz) (Z-Library).txt (342132 chars)\n",
      "2025-05-30 19:06:41,561 - INFO - Saved: cleaned_Sprint How to Solve Big Problems and Test New Ideas in Just Five Days (Jake Knapp  John Zeratsky  Braden Kowitz) (Z-Library).txt\n",
      "2025-05-30 19:06:41,561 - INFO - Processing: How to Get Ideas, Second Edition (Jack Foster) (Z-Library).txt\n",
      "2025-05-30 19:06:41,567 - DEBUG - Encoding for How to Get Ideas, Second Edition (Jack Foster) (Z-Library).txt: utf-8 (confidence: 0.99)\n",
      "2025-05-30 19:06:41,568 - DEBUG - Successfully read How to Get Ideas, Second Edition (Jack Foster) (Z-Library).txt (224699 chars)\n",
      "2025-05-30 19:06:41,569 - INFO - Original length: 224699 chars\n",
      "2025-05-30 19:06:41,569 - DEBUG - Cleaning text...\n",
      "2025-05-30 19:06:41,602 - DEBUG - Text cleaning complete\n",
      "2025-05-30 19:06:41,603 - DEBUG - Standardizing format...\n",
      "2025-05-30 19:06:41,603 - INFO - Removed 0 header/footer lines\n",
      "2025-05-30 19:06:41,615 - DEBUG - Format standardization complete\n",
      "2025-05-30 19:06:41,616 - INFO - Final length: 219957 chars (97.9%)\n",
      "2025-05-30 19:06:41,616 - DEBUG - Successfully wrote cleaned_How to Get Ideas, Second Edition (Jack Foster) (Z-Library).txt (219957 chars)\n",
      "2025-05-30 19:06:41,617 - INFO - Saved: cleaned_How to Get Ideas, Second Edition (Jack Foster) (Z-Library).txt\n",
      "2025-05-30 19:06:41,617 - INFO - Processing: The Idea Hunter (Andy Boynton  Fischer, Bill  Bole, William) (Z-Library).txt\n",
      "2025-05-30 19:06:41,622 - DEBUG - Encoding for The Idea Hunter (Andy Boynton  Fischer, Bill  Bole, William) (Z-Library).txt: utf-8 (confidence: 0.99)\n",
      "2025-05-30 19:06:41,623 - DEBUG - Successfully read The Idea Hunter (Andy Boynton  Fischer, Bill  Bole, William) (Z-Library).txt (284908 chars)\n",
      "2025-05-30 19:06:41,623 - INFO - Original length: 284908 chars\n",
      "2025-05-30 19:06:41,624 - DEBUG - Cleaning text...\n",
      "2025-05-30 19:06:41,668 - DEBUG - Text cleaning complete\n",
      "2025-05-30 19:06:41,669 - DEBUG - Standardizing format...\n",
      "2025-05-30 19:06:41,669 - INFO - Removed 0 header/footer lines\n",
      "2025-05-30 19:06:41,685 - DEBUG - Format standardization complete\n",
      "2025-05-30 19:06:41,685 - INFO - Final length: 283110 chars (99.4%)\n",
      "2025-05-30 19:06:41,686 - DEBUG - Successfully wrote cleaned_The Idea Hunter (Andy Boynton  Fischer, Bill  Bole, William) (Z-Library).txt (283110 chars)\n",
      "2025-05-30 19:06:41,686 - INFO - Saved: cleaned_The Idea Hunter (Andy Boynton  Fischer, Bill  Bole, William) (Z-Library).txt\n",
      "2025-05-30 19:06:41,687 - INFO - Complete: 8/8 files processed\n"
     ]
    }
   ],
   "source": [
    "results = preprocessor.process_directory()\n"
   ]
  },
  {
   "cell_type": "code",
   "execution_count": 6,
   "id": "c05f5b75-aa6c-4bed-9936-15fb65089cc6",
   "metadata": {
    "execution": {
     "iopub.execute_input": "2025-05-30T16:07:30.011395Z",
     "iopub.status.busy": "2025-05-30T16:07:30.010662Z",
     "iopub.status.idle": "2025-05-30T16:07:30.018662Z",
     "shell.execute_reply": "2025-05-30T16:07:30.017534Z",
     "shell.execute_reply.started": "2025-05-30T16:07:30.011370Z"
    }
   },
   "outputs": [
    {
     "name": "stdout",
     "output_type": "stream",
     "text": [
      "\n",
      "========================================\n",
      "RESULTS\n",
      "========================================\n",
      "✓ Breakthrough thinking a guide to creative thinking and idea generation (Vogel, Thomas) (Z-Library).txt\n",
      "✓ Cracking Creativity The Secrets of Creative Genius (Michael Michalko [Michalko, Michael]) (Z-Library).txt\n",
      "✓ Applied Imagination - Principles and Procedures of Creative Writing (Alex Osborn alex faickney osborn) (Z-Library).txt\n",
      "✓ Where Good Ideas Come From (Johnson Steven) (Z-Library).txt\n",
      "✓ Six Thinking Hats (Edward de Bono) (Z-Library).txt\n",
      "✓ Sprint How to Solve Big Problems and Test New Ideas in Just Five Days (Jake Knapp  John Zeratsky  Braden Kowitz) (Z-Library).txt\n",
      "✓ How to Get Ideas, Second Edition (Jack Foster) (Z-Library).txt\n",
      "✓ The Idea Hunter (Andy Boynton  Fischer, Bill  Bole, William) (Z-Library).txt\n"
     ]
    }
   ],
   "source": [
    "# Print summary\n",
    "print(\"\\n\" + \"=\" * 40)\n",
    "print(\"RESULTS\")\n",
    "print(\"=\" * 40)\n",
    "for filename, success in results.items():\n",
    "    status = \"✓\" if success else \"✗\"\n",
    "    print(f\"{status} {filename}\")"
   ]
  },
  {
   "cell_type": "markdown",
   "id": "515f7c0a-fa2f-42ba-b977-8197c2c04ca8",
   "metadata": {},
   "source": [
    "# Chunk Text"
   ]
  },
  {
   "cell_type": "code",
   "execution_count": 8,
   "id": "290e6f45-21ef-41a8-bb20-ec1c4b866c17",
   "metadata": {
    "execution": {
     "iopub.execute_input": "2025-05-30T19:47:26.481314Z",
     "iopub.status.busy": "2025-05-30T19:47:26.478723Z",
     "iopub.status.idle": "2025-05-30T19:47:26.485713Z",
     "shell.execute_reply": "2025-05-30T19:47:26.485262Z",
     "shell.execute_reply.started": "2025-05-30T19:47:26.481277Z"
    }
   },
   "outputs": [],
   "source": [
    "from data.text_chunker import IntelligentTextChunker"
   ]
  },
  {
   "cell_type": "code",
   "execution_count": 10,
   "id": "c1a48c90-4add-49e8-93c0-f12059fb7abb",
   "metadata": {
    "execution": {
     "iopub.execute_input": "2025-05-30T19:48:18.871626Z",
     "iopub.status.busy": "2025-05-30T19:48:18.870633Z",
     "iopub.status.idle": "2025-05-30T19:48:18.879144Z",
     "shell.execute_reply": "2025-05-30T19:48:18.878381Z",
     "shell.execute_reply.started": "2025-05-30T19:48:18.871585Z"
    }
   },
   "outputs": [],
   "source": [
    "chunker = IntelligentTextChunker(\n",
    "    min_chunk_size=800,\n",
    "    max_chunk_size=1300,\n",
    "    overlap_size=100,\n",
    ")"
   ]
  },
  {
   "cell_type": "code",
   "execution_count": 12,
   "id": "b8614c46-5cc8-44af-99ed-2da548a5cbef",
   "metadata": {
    "execution": {
     "iopub.execute_input": "2025-05-30T19:50:59.365720Z",
     "iopub.status.busy": "2025-05-30T19:50:59.365478Z",
     "iopub.status.idle": "2025-05-30T19:50:59.370333Z",
     "shell.execute_reply": "2025-05-30T19:50:59.369855Z",
     "shell.execute_reply.started": "2025-05-30T19:50:59.365698Z"
    }
   },
   "outputs": [
    {
     "name": "stdout",
     "output_type": "stream",
     "text": [
      "Found 8 text files to chunk\n"
     ]
    }
   ],
   "source": [
    "from pathlib import Path\n",
    "\n",
    "\n",
    "# Process files\n",
    "input_dir = Path('/Users/iulia/Documents/Documents/StudyMaterials/brainstorming_agent/data/books/cleaned')\n",
    "output_dir = input_dir / \"chunks\"\n",
    "output_dir.mkdir(parents=True, exist_ok=True)\n",
    "\n",
    "text_files = list(input_dir.glob(\"*.txt\"))\n",
    "\n",
    "print(f\"Found {len(text_files)} text files to chunk\")\n",
    "\n"
   ]
  },
  {
   "cell_type": "code",
   "execution_count": 13,
   "id": "ba028c19-9ad5-4fac-8e91-e6e9d6428304",
   "metadata": {
    "execution": {
     "iopub.execute_input": "2025-05-30T19:51:05.393300Z",
     "iopub.status.busy": "2025-05-30T19:51:05.393138Z",
     "iopub.status.idle": "2025-05-30T19:51:06.346767Z",
     "shell.execute_reply": "2025-05-30T19:51:06.346474Z",
     "shell.execute_reply.started": "2025-05-30T19:51:05.393288Z"
    }
   },
   "outputs": [
    {
     "name": "stderr",
     "output_type": "stream",
     "text": [
      "2025-05-30 22:51:05,396 - INFO - Chunking text from cleaned_Breakthrough thinking a guide to creative thinking and idea generation (Vogel, Thomas) (Z-Library).txt\n",
      "2025-05-30 22:51:05,510 - INFO - Created 113 chunks from cleaned_Breakthrough thinking a guide to creative thinking and idea generation (Vogel, Thomas) (Z-Library).txt\n",
      "2025-05-30 22:51:05,637 - INFO - Chunking text from cleaned_Six Thinking Hats (Edward de Bono) (Z-Library).txt\n",
      "2025-05-30 22:51:05,707 - INFO - Created 43 chunks from cleaned_Six Thinking Hats (Edward de Bono) (Z-Library).txt\n",
      "2025-05-30 22:51:05,723 - INFO - Chunking text from cleaned_The Idea Hunter (Andy Boynton  Fischer, Bill  Bole, William) (Z-Library).txt\n",
      "2025-05-30 22:51:05,769 - INFO - Created 55 chunks from cleaned_The Idea Hunter (Andy Boynton  Fischer, Bill  Bole, William) (Z-Library).txt\n",
      "2025-05-30 22:51:05,786 - INFO - Chunking text from cleaned_How to Get Ideas, Second Edition (Jack Foster) (Z-Library).txt\n",
      "2025-05-30 22:51:05,823 - INFO - Created 43 chunks from cleaned_How to Get Ideas, Second Edition (Jack Foster) (Z-Library).txt\n",
      "2025-05-30 22:51:05,839 - INFO - Chunking text from cleaned_Cracking Creativity The Secrets of Creative Genius (Michael Michalko [Michalko, Michael]) (Z-Library).txt\n",
      "2025-05-30 22:51:05,924 - INFO - Created 105 chunks from cleaned_Cracking Creativity The Secrets of Creative Genius (Michael Michalko [Michalko, Michael]) (Z-Library).txt\n",
      "2025-05-30 22:51:05,983 - INFO - Chunking text from cleaned_Where Good Ideas Come From (Johnson Steven) (Z-Library).txt\n",
      "2025-05-30 22:51:06,062 - INFO - Created 99 chunks from cleaned_Where Good Ideas Come From (Johnson Steven) (Z-Library).txt\n",
      "2025-05-30 22:51:06,114 - INFO - Chunking text from cleaned_Sprint How to Solve Big Problems and Test New Ideas in Just Five Days (Jake Knapp  John Zeratsky  Braden Kowitz) (Z-Library).txt\n",
      "2025-05-30 22:51:06,169 - INFO - Created 66 chunks from cleaned_Sprint How to Solve Big Problems and Test New Ideas in Just Five Days (Jake Knapp  John Zeratsky  Braden Kowitz) (Z-Library).txt\n",
      "2025-05-30 22:51:06,198 - INFO - Chunking text from cleaned_Applied Imagination - Principles and Procedures of Creative Writing (Alex Osborn alex faickney osborn) (Z-Library).txt\n",
      "2025-05-30 22:51:06,281 - INFO - Created 102 chunks from cleaned_Applied Imagination - Principles and Procedures of Creative Writing (Alex Osborn alex faickney osborn) (Z-Library).txt\n"
     ]
    }
   ],
   "source": [
    "all_chunks = []\n",
    "for file_path in text_files:\n",
    "    # Read cleaned text\n",
    "    with open(file_path, 'r', encoding='utf-8') as f:\n",
    "        text = f.read()\n",
    "\n",
    "    # Create chunks\n",
    "    chunks = chunker.chunk_text(text, file_path.name)\n",
    "\n",
    "    # Save individual chunks\n",
    "    for chunk in chunks:\n",
    "        chunk_file = output_dir / f\"{chunk.chunk_id}.txt\"\n",
    "        with open(chunk_file, 'w', encoding='utf-8') as f:\n",
    "            f.write(f\"# {chunk.chunk_id}\\n\")\n",
    "            f.write(f\"Source: {chunk.source_file}\\n\")\n",
    "            f.write(f\"Type: {chunk.chunk_type}\\n\")\n",
    "            f.write(f\"Tokens: {chunk.token_count}\\n\")\n",
    "            if chunk.section_hierarchy:\n",
    "                f.write(f\"Section: {' > '.join(chunk.section_hierarchy)}\\n\")\n",
    "            f.write(\"\\n\" + \"=\" * 50 + \"\\n\\n\")\n",
    "            f.write(chunk.content)\n",
    "\n",
    "    all_chunks.extend(chunks)\n",
    "\n"
   ]
  },
  {
   "cell_type": "code",
   "execution_count": 14,
   "id": "b19136cb-8f7c-4e99-86a3-dc302ad050c0",
   "metadata": {
    "execution": {
     "iopub.execute_input": "2025-05-30T19:51:15.468506Z",
     "iopub.status.busy": "2025-05-30T19:51:15.468344Z",
     "iopub.status.idle": "2025-05-30T19:51:16.627544Z",
     "shell.execute_reply": "2025-05-30T19:51:16.627313Z",
     "shell.execute_reply.started": "2025-05-30T19:51:15.468494Z"
    }
   },
   "outputs": [
    {
     "name": "stderr",
     "output_type": "stream",
     "text": [
      "2025-05-30 22:51:16,625 - INFO - Saved metadata for 626 chunks to /Users/iulia/Documents/Documents/StudyMaterials/brainstorming_agent/data/books/cleaned/chunks/chunks_metadata.json\n"
     ]
    },
    {
     "name": "stdout",
     "output_type": "stream",
     "text": [
      "\n",
      "Chunking complete!\n",
      "Created 626 chunks\n",
      "Average chunk size: 1291 tokens\n",
      "Chunks saved to: /Users/iulia/Documents/Documents/StudyMaterials/brainstorming_agent/data/books/cleaned/chunks\n"
     ]
    }
   ],
   "source": [
    "# Save metadata\n",
    "chunker.save_chunks_metadata(all_chunks, output_dir / \"chunks_metadata.json\")\n",
    "\n",
    "print(f\"\\nChunking complete!\")\n",
    "print(f\"Created {len(all_chunks)} chunks\")\n",
    "print(f\"Average chunk size: {sum(c.token_count for c in all_chunks) / len(all_chunks):.0f} tokens\")\n",
    "print(f\"Chunks saved to: {output_dir}\")"
   ]
  },
  {
   "cell_type": "code",
   "execution_count": null,
   "id": "d2dd4c2a-a8dc-4e27-906c-3b70d8a60312",
   "metadata": {},
   "outputs": [],
   "source": []
  },
  {
   "cell_type": "code",
   "execution_count": null,
   "id": "b4c342bb-786c-41e5-be53-763c9a6cdaed",
   "metadata": {},
   "outputs": [],
   "source": []
  }
 ],
 "metadata": {
  "kernelspec": {
   "display_name": "Python 3 (ipykernel)",
   "language": "python",
   "name": "python3"
  },
  "language_info": {
   "codemirror_mode": {
    "name": "ipython",
    "version": 3
   },
   "file_extension": ".py",
   "mimetype": "text/x-python",
   "name": "python",
   "nbconvert_exporter": "python",
   "pygments_lexer": "ipython3",
   "version": "3.11.6"
  }
 },
 "nbformat": 4,
 "nbformat_minor": 5
}
